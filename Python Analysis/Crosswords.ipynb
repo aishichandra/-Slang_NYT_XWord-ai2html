{
 "cells": [
  {
   "cell_type": "code",
   "execution_count": 1,
   "metadata": {},
   "outputs": [],
   "source": [
    "import pandas as pd\n",
    "import requests\n",
    "import datetime\n",
    "import json\n",
    "import lxml"
   ]
  },
  {
   "cell_type": "markdown",
   "metadata": {},
   "source": [
    "## Looking at one years worth of data (1976)"
   ]
  },
  {
   "cell_type": "code",
   "execution_count": 2,
   "metadata": {},
   "outputs": [],
   "source": [
    "list_of_dates = list(pd.date_range(start='1/5/1976', end='12/31/2017'))"
   ]
  },
  {
   "cell_type": "code",
   "execution_count": 3,
   "metadata": {},
   "outputs": [],
   "source": [
    "def get_crossword_data(date):\n",
    "    try:\n",
    "        f = open(f'nyt_crosswords-master/{date.year}/{date.month:02}/{date.day:02}.json','r')\n",
    "        data = json.loads(f.read())\n",
    "        filled_letters = data['answers']['across']\n",
    "        length = sum(len(s) for s in filled_letters)\n",
    "        answers = data['answers']['across'] + data['answers']['down']\n",
    "        clues = data['clues']['across'] + data['clues']['down']\n",
    "        author = data['author'] \n",
    "        cols = data['size']['cols']\n",
    "        rows = data['size']['rows']\n",
    "        editor = data['editor']\n",
    "        return pd.Series({'answers': answers, 'clues': clues, 'editor':editor, 'author': author, 'size' : rows * cols, 'length' : length})\n",
    "    except:\n",
    "        return pd.Series({'answers': [], 'clues': [], 'editor':'', 'author': '', 'size' : 0, 'length' : 0})\n"
   ]
  },
  {
   "cell_type": "code",
   "execution_count": 4,
   "metadata": {
    "scrolled": true
   },
   "outputs": [
    {
     "data": {
      "text/html": [
       "<div>\n",
       "<style scoped>\n",
       "    .dataframe tbody tr th:only-of-type {\n",
       "        vertical-align: middle;\n",
       "    }\n",
       "\n",
       "    .dataframe tbody tr th {\n",
       "        vertical-align: top;\n",
       "    }\n",
       "\n",
       "    .dataframe thead th {\n",
       "        text-align: right;\n",
       "    }\n",
       "</style>\n",
       "<table border=\"1\" class=\"dataframe\">\n",
       "  <thead>\n",
       "    <tr style=\"text-align: right;\">\n",
       "      <th></th>\n",
       "      <th>crossword_date</th>\n",
       "      <th>answers</th>\n",
       "      <th>clues</th>\n",
       "      <th>editor</th>\n",
       "      <th>author</th>\n",
       "      <th>size</th>\n",
       "      <th>length</th>\n",
       "      <th>density</th>\n",
       "    </tr>\n",
       "  </thead>\n",
       "  <tbody>\n",
       "    <tr>\n",
       "      <th>0</th>\n",
       "      <td>1976-01-05</td>\n",
       "      <td>[AJAX, WHOOP, CRAB, BALI, HEAVE, HAME, ADMIRAL...</td>\n",
       "      <td>[1. Greek hero, 5. Loud cry, 10. Peevish perso...</td>\n",
       "      <td>Will Weng</td>\n",
       "      <td>Herb L. Risteen</td>\n",
       "      <td>225</td>\n",
       "      <td>187</td>\n",
       "      <td>0.831111</td>\n",
       "    </tr>\n",
       "    <tr>\n",
       "      <th>1</th>\n",
       "      <td>1976-01-06</td>\n",
       "      <td>[ACTS, GRAB, SHAM, BEAT, GRETA, TONE, ABRA, LA...</td>\n",
       "      <td>[1. Bible book, 5. Seize, 9. Counterfeit, 13. ...</td>\n",
       "      <td>Will Weng</td>\n",
       "      <td>DeWitt Anderson</td>\n",
       "      <td>225</td>\n",
       "      <td>187</td>\n",
       "      <td>0.831111</td>\n",
       "    </tr>\n",
       "    <tr>\n",
       "      <th>2</th>\n",
       "      <td>1976-01-07</td>\n",
       "      <td>[ITA, TILO, CACHE, SNOB, ODOR, ATHOS, OARS, GO...</td>\n",
       "      <td>[1. Give ___ whirl, 4. Linden tree, in Spain, ...</td>\n",
       "      <td>Will Weng</td>\n",
       "      <td>Miller</td>\n",
       "      <td>225</td>\n",
       "      <td>187</td>\n",
       "      <td>0.831111</td>\n",
       "    </tr>\n",
       "    <tr>\n",
       "      <th>3</th>\n",
       "      <td>1976-01-08</td>\n",
       "      <td>[BOMA, ACME, LIEGE, ORES, COATHANGER, WISHFULT...</td>\n",
       "      <td>[1. African stockade, 5. Utmost degree, 9. Feu...</td>\n",
       "      <td>Will Weng</td>\n",
       "      <td>Frank Geary</td>\n",
       "      <td>225</td>\n",
       "      <td>189</td>\n",
       "      <td>0.840000</td>\n",
       "    </tr>\n",
       "    <tr>\n",
       "      <th>4</th>\n",
       "      <td>1976-01-09</td>\n",
       "      <td>[PROS, ARC, FBI, POLES, PULP, IRON, STERE, SEA...</td>\n",
       "      <td>[1. Golf-tour players, 5. Curve part, 8. Govt....</td>\n",
       "      <td>Will Weng</td>\n",
       "      <td>Brian G. Tyler</td>\n",
       "      <td>225</td>\n",
       "      <td>179</td>\n",
       "      <td>0.795556</td>\n",
       "    </tr>\n",
       "    <tr>\n",
       "      <th>...</th>\n",
       "      <td>...</td>\n",
       "      <td>...</td>\n",
       "      <td>...</td>\n",
       "      <td>...</td>\n",
       "      <td>...</td>\n",
       "      <td>...</td>\n",
       "      <td>...</td>\n",
       "      <td>...</td>\n",
       "    </tr>\n",
       "    <tr>\n",
       "      <th>15332</th>\n",
       "      <td>2017-12-27</td>\n",
       "      <td>[]</td>\n",
       "      <td>[]</td>\n",
       "      <td></td>\n",
       "      <td></td>\n",
       "      <td>0</td>\n",
       "      <td>0</td>\n",
       "      <td>NaN</td>\n",
       "    </tr>\n",
       "    <tr>\n",
       "      <th>15333</th>\n",
       "      <td>2017-12-28</td>\n",
       "      <td>[]</td>\n",
       "      <td>[]</td>\n",
       "      <td></td>\n",
       "      <td></td>\n",
       "      <td>0</td>\n",
       "      <td>0</td>\n",
       "      <td>NaN</td>\n",
       "    </tr>\n",
       "    <tr>\n",
       "      <th>15334</th>\n",
       "      <td>2017-12-29</td>\n",
       "      <td>[]</td>\n",
       "      <td>[]</td>\n",
       "      <td></td>\n",
       "      <td></td>\n",
       "      <td>0</td>\n",
       "      <td>0</td>\n",
       "      <td>NaN</td>\n",
       "    </tr>\n",
       "    <tr>\n",
       "      <th>15335</th>\n",
       "      <td>2017-12-30</td>\n",
       "      <td>[]</td>\n",
       "      <td>[]</td>\n",
       "      <td></td>\n",
       "      <td></td>\n",
       "      <td>0</td>\n",
       "      <td>0</td>\n",
       "      <td>NaN</td>\n",
       "    </tr>\n",
       "    <tr>\n",
       "      <th>15336</th>\n",
       "      <td>2017-12-31</td>\n",
       "      <td>[]</td>\n",
       "      <td>[]</td>\n",
       "      <td></td>\n",
       "      <td></td>\n",
       "      <td>0</td>\n",
       "      <td>0</td>\n",
       "      <td>NaN</td>\n",
       "    </tr>\n",
       "  </tbody>\n",
       "</table>\n",
       "<p>15337 rows × 8 columns</p>\n",
       "</div>"
      ],
      "text/plain": [
       "      crossword_date                                            answers  \\\n",
       "0         1976-01-05  [AJAX, WHOOP, CRAB, BALI, HEAVE, HAME, ADMIRAL...   \n",
       "1         1976-01-06  [ACTS, GRAB, SHAM, BEAT, GRETA, TONE, ABRA, LA...   \n",
       "2         1976-01-07  [ITA, TILO, CACHE, SNOB, ODOR, ATHOS, OARS, GO...   \n",
       "3         1976-01-08  [BOMA, ACME, LIEGE, ORES, COATHANGER, WISHFULT...   \n",
       "4         1976-01-09  [PROS, ARC, FBI, POLES, PULP, IRON, STERE, SEA...   \n",
       "...              ...                                                ...   \n",
       "15332     2017-12-27                                                 []   \n",
       "15333     2017-12-28                                                 []   \n",
       "15334     2017-12-29                                                 []   \n",
       "15335     2017-12-30                                                 []   \n",
       "15336     2017-12-31                                                 []   \n",
       "\n",
       "                                                   clues     editor  \\\n",
       "0      [1. Greek hero, 5. Loud cry, 10. Peevish perso...  Will Weng   \n",
       "1      [1. Bible book, 5. Seize, 9. Counterfeit, 13. ...  Will Weng   \n",
       "2      [1. Give ___ whirl, 4. Linden tree, in Spain, ...  Will Weng   \n",
       "3      [1. African stockade, 5. Utmost degree, 9. Feu...  Will Weng   \n",
       "4      [1. Golf-tour players, 5. Curve part, 8. Govt....  Will Weng   \n",
       "...                                                  ...        ...   \n",
       "15332                                                 []              \n",
       "15333                                                 []              \n",
       "15334                                                 []              \n",
       "15335                                                 []              \n",
       "15336                                                 []              \n",
       "\n",
       "                author  size  length   density  \n",
       "0      Herb L. Risteen   225     187  0.831111  \n",
       "1      DeWitt Anderson   225     187  0.831111  \n",
       "2               Miller   225     187  0.831111  \n",
       "3          Frank Geary   225     189  0.840000  \n",
       "4       Brian G. Tyler   225     179  0.795556  \n",
       "...                ...   ...     ...       ...  \n",
       "15332                      0       0       NaN  \n",
       "15333                      0       0       NaN  \n",
       "15334                      0       0       NaN  \n",
       "15335                      0       0       NaN  \n",
       "15336                      0       0       NaN  \n",
       "\n",
       "[15337 rows x 8 columns]"
      ]
     },
     "execution_count": 4,
     "metadata": {},
     "output_type": "execute_result"
    }
   ],
   "source": [
    "df = pd.DataFrame({\n",
    "    'crossword_date': list_of_dates\n",
    "})\n",
    "\n",
    "results = df.crossword_date.apply(get_crossword_data)\n",
    "df = df.join(results)\n",
    "\n",
    "df['density'] = df['length']/df['size']\n",
    "df"
   ]
  },
  {
   "cell_type": "code",
   "execution_count": 5,
   "metadata": {},
   "outputs": [],
   "source": [
    "df = df.dropna()\n",
    "df_answers_clues = df.set_index('crossword_date').apply(pd.Series.explode).reset_index()\n",
    "#sparse_array\n",
    "df_answers_clues[['code','clues']] = df_answers_clues['clues'].str.split(\".\", 1, expand=True)\n",
    "df_answers_clues['day_of_week'] = df_answers_clues.crossword_date.dt.day_name()"
   ]
  },
  {
   "cell_type": "code",
   "execution_count": 6,
   "metadata": {},
   "outputs": [
    {
     "ename": "NameError",
     "evalue": "name 'dayOrder' is not defined",
     "output_type": "error",
     "traceback": [
      "\u001b[1;31m---------------------------------------------------------------------------\u001b[0m",
      "\u001b[1;31mNameError\u001b[0m                                 Traceback (most recent call last)",
      "Input \u001b[1;32mIn [6]\u001b[0m, in \u001b[0;36m<cell line: 1>\u001b[1;34m()\u001b[0m\n\u001b[0;32m      1\u001b[0m GridSize_df \u001b[38;5;241m=\u001b[39m pd\u001b[38;5;241m.\u001b[39mpivot_table(df_answers_clues,\n\u001b[0;32m      2\u001b[0m                         values\u001b[38;5;241m=\u001b[39m[\u001b[38;5;124m'\u001b[39m\u001b[38;5;124msize\u001b[39m\u001b[38;5;124m'\u001b[39m],\n\u001b[0;32m      3\u001b[0m                         columns\u001b[38;5;241m=\u001b[39m[\u001b[38;5;124m'\u001b[39m\u001b[38;5;124mday_of_week\u001b[39m\u001b[38;5;124m'\u001b[39m],\n\u001b[0;32m      4\u001b[0m                         fill_value\u001b[38;5;241m=\u001b[39m\u001b[38;5;241m0\u001b[39m,\n\u001b[1;32m----> 5\u001b[0m                         aggfunc\u001b[38;5;241m=\u001b[39m\u001b[38;5;124m'\u001b[39m\u001b[38;5;124mdescribe\u001b[39m\u001b[38;5;124m'\u001b[39m)\u001b[38;5;241m.\u001b[39mreindex(\u001b[43mdayOrder\u001b[49m,axis\u001b[38;5;241m=\u001b[39m\u001b[38;5;241m1\u001b[39m)\n\u001b[0;32m      6\u001b[0m GridSize_df\n",
      "\u001b[1;31mNameError\u001b[0m: name 'dayOrder' is not defined"
     ]
    }
   ],
   "source": [
    "GridSize_df = pd.pivot_table(df_answers_clues,\n",
    "                        values=['size'],\n",
    "                        columns=['day_of_week'],\n",
    "                        fill_value=0,\n",
    "                        aggfunc='describe').reindex(dayOrder,axis=1)\n",
    "GridSize_df"
   ]
  },
  {
   "cell_type": "markdown",
   "metadata": {},
   "source": [
    "### Adding the length of each word"
   ]
  },
  {
   "cell_type": "code",
   "execution_count": 44,
   "metadata": {},
   "outputs": [],
   "source": [
    "df_answers_clues['answer_length'] = df_answers_clues['answers'].str.len()"
   ]
  },
  {
   "cell_type": "markdown",
   "metadata": {},
   "source": [
    "#### Plotting the distribution of the lengths of the words"
   ]
  },
  {
   "cell_type": "code",
   "execution_count": 54,
   "metadata": {},
   "outputs": [
    {
     "data": {
      "text/plain": [
       "<AxesSubplot:>"
      ]
     },
     "execution_count": 54,
     "metadata": {},
     "output_type": "execute_result"
    },
    {
     "data": {
      "image/png": "[encoded data removed]",
      "text/plain": [
       "<Figure size 432x288 with 1 Axes>"
      ]
     },
     "metadata": {
      "needs_background": "light"
     },
     "output_type": "display_data"
    }
   ],
   "source": [
    "df_answers_clues.answer_length.hist(bins = 20)"
   ]
  },
  {
   "cell_type": "markdown",
   "metadata": {},
   "source": [
    "#### What are the length distributions according to the day of the week?"
   ]
  },
  {
   "cell_type": "code",
   "execution_count": 43,
   "metadata": {},
   "outputs": [
    {
     "data": {
      "text/plain": [
       "Sunday       3233\n",
       "Thursday      107\n",
       "Friday         29\n",
       "Tuesday        21\n",
       "Saturday       19\n",
       "Wednesday      14\n",
       "Monday          9\n",
       "Name: day_of_week, dtype: int64"
      ]
     },
     "execution_count": 43,
     "metadata": {},
     "output_type": "execute_result"
    }
   ],
   "source": [
    "#Longest words are found in the Sunday paper \n",
    "df_answers_clues[df_answers_clues.answer_length > 15].sort_values('answer_length', ascending = False)['day_of_week'].value_counts()"
   ]
  },
  {
   "cell_type": "code",
   "execution_count": 180,
   "metadata": {},
   "outputs": [],
   "source": [
    "df_answers_clues['crossword_year'] = df_answers_clues['crossword_date'].dt.year\n",
    "df_answers_clues[['crossword_date', 'answers', 'clues', 'crossword_year']].to_csv('slangtill2015.csv')"
   ]
  },
  {
   "cell_type": "code",
   "execution_count": null,
   "metadata": {},
   "outputs": [],
   "source": [
    "dayOrder = ['Monday', 'Tuesday', 'Wednesday', 'Thursday', 'Friday', 'Saturday', 'Sunday']\n",
    "Pivotdf = pd.pivot_table(df_answers_clues,\n",
    "                        values=['density'],\n",
    "                        columns=['day_of_week'],\n",
    "#                         fill_value=0,\n",
    "                        aggfunc='mean').reindex(dayOrder,axis=1)\n",
    "Pivotdf"
   ]
  },
  {
   "cell_type": "code",
   "execution_count": null,
   "metadata": {},
   "outputs": [],
   "source": [
    "df_answers_clues.groupby(['day_of_week']).describe().answer_length"
   ]
  },
  {
   "cell_type": "markdown",
   "metadata": {},
   "source": [
    "#### Number of unique answers for each day in the week"
   ]
  },
  {
   "cell_type": "code",
   "execution_count": null,
   "metadata": {},
   "outputs": [],
   "source": [
    "unique_words = df_answers_clues[df_answers_clues['answers'].map(df_answers_clues['answers'].value_counts()) == 1]\n",
    "unique_words.groupby('day_of_week').count()\n",
    "\n",
    "dayOrder = ['Monday', 'Tuesday', 'Wednesday', 'Thursday', 'Friday', 'Saturday', 'Sunday']\n",
    "\n",
    "pd.pivot_table(unique_words,\n",
    "                values=['answers'],\n",
    "                columns=['day_of_week'],\n",
    "                fill_value=0,\n",
    "                aggfunc='count').reindex(dayOrder,axis=1)\n"
   ]
  },
  {
   "cell_type": "markdown",
   "metadata": {},
   "source": [
    "#### What is the most common word?"
   ]
  },
  {
   "cell_type": "code",
   "execution_count": null,
   "metadata": {},
   "outputs": [],
   "source": [
    "answer_count = df_answers_clues['answers'].value_counts().head(1)\n",
    "answer_count"
   ]
  },
  {
   "cell_type": "code",
   "execution_count": null,
   "metadata": {},
   "outputs": [],
   "source": []
  },
  {
   "cell_type": "markdown",
   "metadata": {},
   "source": [
    "#### What is the most common word for different word lengths?"
   ]
  },
  {
   "cell_type": "code",
   "execution_count": null,
   "metadata": {},
   "outputs": [],
   "source": [
    "df_answers_clues.groupby([\"answer_length\", \"answers\"])[\"answers\"].value_counts(ascending=False).groupby(level=0, group_keys=False).nlargest(1).to_frame()"
   ]
  },
  {
   "cell_type": "code",
   "execution_count": null,
   "metadata": {},
   "outputs": [],
   "source": [
    "df_answers_clues['answers'].value_counts().head(5)\n"
   ]
  },
  {
   "cell_type": "markdown",
   "metadata": {},
   "source": [
    "#### Lets look at the clues"
   ]
  },
  {
   "cell_type": "code",
   "execution_count": null,
   "metadata": {},
   "outputs": [],
   "source": [
    "# df_answers_clues[df_answers_clues['clues'].str.contains(\"?\", regex=False) == True]\n",
    "df_answers_clues[df_answers_clues['clues'].str.contains(\"subtly\", regex=False) == True]"
   ]
  },
  {
   "cell_type": "code",
   "execution_count": null,
   "metadata": {},
   "outputs": [],
   "source": [
    "df_answers_clues[df_answers_clues['clues'].str.contains(\"?\", regex=False) == True].crossword_year.hist()"
   ]
  },
  {
   "cell_type": "code",
   "execution_count": null,
   "metadata": {},
   "outputs": [],
   "source": [
    "df_answers_clues[df_answers_clues['answers'].str.contains('YOGA', regex=False) == True].crossword_year.hist()\n"
   ]
  },
  {
   "cell_type": "code",
   "execution_count": null,
   "metadata": {},
   "outputs": [],
   "source": [
    "non_MASH = df_answers_clues[df_answers_clues['clues'].str.contains(\"M*A*S*H\", regex=False) == False]\n",
    "non_MASH[non_MASH['clues'].str.contains(\"*\", regex=False) == True].crossword_year.hist()"
   ]
  },
  {
   "cell_type": "code",
   "execution_count": null,
   "metadata": {},
   "outputs": [],
   "source": [
    "print(df_answers_clues[df_answers_clues['clues'].str.contains('informally', regex=False) == True].clues.unique())\n",
    "df_answers_clues[df_answers_clues['clues'].str.contains('informally', regex=False) == True].crossword_year.hist()\n"
   ]
  },
  {
   "cell_type": "code",
   "execution_count": null,
   "metadata": {},
   "outputs": [],
   "source": [
    "df_answers_clues[df_answers_clues['clues'].str.contains('girl') & df_answers_clues['clues'].str.contains('?', regex=False)].head(55)"
   ]
  },
  {
   "cell_type": "code",
   "execution_count": null,
   "metadata": {},
   "outputs": [],
   "source": [
    "df_answers_clues[df_answers_clues['clues'].str.contains('Wall St')].tail(55)"
   ]
  },
  {
   "cell_type": "code",
   "execution_count": null,
   "metadata": {},
   "outputs": [],
   "source": [
    "df_answers_clues[(df_answers_clues['clues'].str.contains('colloquial'))].head()"
   ]
  },
  {
   "cell_type": "code",
   "execution_count": 96,
   "metadata": {},
   "outputs": [],
   "source": [
    "slang = df_answers_clues[df_answers_clues['clues'].str.contains('colloquially', regex=False) |df_answers_clues['clues'].str.contains('modern lingo', regex=False) | df_answers_clues['clues'].str.contains('slang', regex=False) | df_answers_clues['clues'].str.contains('informally', regex=False) | df_answers_clues['clues'].str.contains('slangily', regex=False)]\n",
    "slang.answers.drop_duplicates().to_csv(\"slang_unique_list.csv\")\n",
    "#AMMO, RAP, PICS"
   ]
  },
  {
   "cell_type": "code",
   "execution_count": 42,
   "metadata": {},
   "outputs": [
    {
     "data": {
      "text/plain": [
       "<AxesSubplot:>"
      ]
     },
     "execution_count": 42,
     "metadata": {},
     "output_type": "execute_result"
    },
    {
     "data": {
      "image/png": "[encoded data removed]",
      "text/plain": [
       "<Figure size 432x288 with 1 Axes>"
      ]
     },
     "metadata": {
      "needs_background": "light"
     },
     "output_type": "display_data"
    }
   ],
   "source": [
    "df_answers_clues[df_answers_clues['clues'].str.contains('colloquially', regex=False) |df_answers_clues['clues'].str.contains('modern lingo', regex=False) | df_answers_clues['clues'].str.contains('slang', regex=False) | df_answers_clues['clues'].str.contains('informally', regex=False) | df_answers_clues['clues'].str.contains('slangily', regex=False)]['crossword_year'].hist()"
   ]
  },
  {
   "cell_type": "code",
   "execution_count": null,
   "metadata": {},
   "outputs": [],
   "source": []
  },
  {
   "cell_type": "code",
   "execution_count": 178,
   "metadata": {},
   "outputs": [
    {
     "data": {
      "text/html": [
       "<div>\n",
       "<style scoped>\n",
       "    .dataframe tbody tr th:only-of-type {\n",
       "        vertical-align: middle;\n",
       "    }\n",
       "\n",
       "    .dataframe tbody tr th {\n",
       "        vertical-align: top;\n",
       "    }\n",
       "\n",
       "    .dataframe thead th {\n",
       "        text-align: right;\n",
       "    }\n",
       "</style>\n",
       "<table border=\"1\" class=\"dataframe\">\n",
       "  <thead>\n",
       "    <tr style=\"text-align: right;\">\n",
       "      <th></th>\n",
       "      <th>crossword_date</th>\n",
       "      <th>answers</th>\n",
       "      <th>clues</th>\n",
       "      <th>editor</th>\n",
       "      <th>author</th>\n",
       "      <th>size</th>\n",
       "      <th>length</th>\n",
       "      <th>density</th>\n",
       "      <th>code</th>\n",
       "      <th>day_of_week</th>\n",
       "      <th>answer_length</th>\n",
       "      <th>crossword_year</th>\n",
       "    </tr>\n",
       "  </thead>\n",
       "  <tbody>\n",
       "    <tr>\n",
       "      <th>1178484</th>\n",
       "      <td>2014-06-22</td>\n",
       "      <td>TEXT</td>\n",
       "      <td>Message with an emoji, maybe</td>\n",
       "      <td>Will Shortz</td>\n",
       "      <td>Elizabeth C. Gorski</td>\n",
       "      <td>441</td>\n",
       "      <td>370</td>\n",
       "      <td>0.839002</td>\n",
       "      <td>18</td>\n",
       "      <td>Sunday</td>\n",
       "      <td>4</td>\n",
       "      <td>2014</td>\n",
       "    </tr>\n",
       "    <tr>\n",
       "      <th>1217807</th>\n",
       "      <td>2016-07-12</td>\n",
       "      <td>TEXT</td>\n",
       "      <td>It might contain an emoji</td>\n",
       "      <td>Will Shortz</td>\n",
       "      <td>Samuel A. Donaldson</td>\n",
       "      <td>225</td>\n",
       "      <td>191</td>\n",
       "      <td>0.848889</td>\n",
       "      <td>13</td>\n",
       "      <td>Tuesday</td>\n",
       "      <td>4</td>\n",
       "      <td>2016</td>\n",
       "    </tr>\n",
       "  </tbody>\n",
       "</table>\n",
       "</div>"
      ],
      "text/plain": [
       "        crossword_date answers                          clues       editor  \\\n",
       "1178484     2014-06-22    TEXT   Message with an emoji, maybe  Will Shortz   \n",
       "1217807     2016-07-12    TEXT      It might contain an emoji  Will Shortz   \n",
       "\n",
       "                      author  size  length   density code day_of_week  \\\n",
       "1178484  Elizabeth C. Gorski   441     370  0.839002   18      Sunday   \n",
       "1217807  Samuel A. Donaldson   225     191  0.848889   13     Tuesday   \n",
       "\n",
       "         answer_length  crossword_year  \n",
       "1178484              4            2014  \n",
       "1217807              4            2016  "
      ]
     },
     "execution_count": 178,
     "metadata": {},
     "output_type": "execute_result"
    }
   ],
   "source": [
    "df_answers_clues[df_answers_clues['clues'].str.contains('emoji', regex=False)].tail(50)"
   ]
  },
  {
   "cell_type": "code",
   "execution_count": null,
   "metadata": {},
   "outputs": [],
   "source": [
    "df_answers_clues[df_answers_clues['clues'].str.contains('!', regex=False) == True][['answers', 'clues']].drop_duplicates()"
   ]
  },
  {
   "cell_type": "code",
   "execution_count": null,
   "metadata": {},
   "outputs": [],
   "source": []
  },
  {
   "cell_type": "code",
   "execution_count": 174,
   "metadata": {},
   "outputs": [
    {
     "data": {
      "text/html": [
       "<div>\n",
       "<style scoped>\n",
       "    .dataframe tbody tr th:only-of-type {\n",
       "        vertical-align: middle;\n",
       "    }\n",
       "\n",
       "    .dataframe tbody tr th {\n",
       "        vertical-align: top;\n",
       "    }\n",
       "\n",
       "    .dataframe thead th {\n",
       "        text-align: right;\n",
       "    }\n",
       "</style>\n",
       "<table border=\"1\" class=\"dataframe\">\n",
       "  <thead>\n",
       "    <tr style=\"text-align: right;\">\n",
       "      <th></th>\n",
       "      <th>answers</th>\n",
       "      <th>clues</th>\n",
       "      <th>crossword_year</th>\n",
       "    </tr>\n",
       "  </thead>\n",
       "  <tbody>\n",
       "    <tr>\n",
       "      <th>1176457</th>\n",
       "      <td>SHTUP</td>\n",
       "      <td>Sleep with, in slang</td>\n",
       "      <td>2014</td>\n",
       "    </tr>\n",
       "  </tbody>\n",
       "</table>\n",
       "</div>"
      ],
      "text/plain": [
       "        answers                  clues  crossword_year\n",
       "1176457   SHTUP   Sleep with, in slang            2014"
      ]
     },
     "execution_count": 174,
     "metadata": {},
     "output_type": "execute_result"
    }
   ],
   "source": [
    "# REUP, GMAN\n",
    "# OVER TIME: ALLERGY, BAGS, \n",
    "# person represents another meaning: ABES:FIVER, BAILS. \n",
    "frequent_answers= df_answers_clues[df_answers_clues['answers'] == 'SHTUP']\n",
    "unique_clues = frequent_answers[['answers','clues','crossword_year']].sort_values(['crossword_year']).drop_duplicates()\n",
    "unique_clues.head(50)"
   ]
  },
  {
   "cell_type": "code",
   "execution_count": null,
   "metadata": {},
   "outputs": [],
   "source": []
  },
  {
   "cell_type": "code",
   "execution_count": null,
   "metadata": {},
   "outputs": [],
   "source": []
  },
  {
   "cell_type": "code",
   "execution_count": null,
   "metadata": {},
   "outputs": [],
   "source": []
  },
  {
   "cell_type": "code",
   "execution_count": null,
   "metadata": {},
   "outputs": [],
   "source": []
  },
  {
   "cell_type": "code",
   "execution_count": null,
   "metadata": {},
   "outputs": [],
   "source": []
  },
  {
   "cell_type": "code",
   "execution_count": null,
   "metadata": {},
   "outputs": [],
   "source": []
  },
  {
   "cell_type": "code",
   "execution_count": null,
   "metadata": {},
   "outputs": [],
   "source": []
  },
  {
   "cell_type": "code",
   "execution_count": null,
   "metadata": {},
   "outputs": [],
   "source": []
  },
  {
   "cell_type": "code",
   "execution_count": null,
   "metadata": {},
   "outputs": [],
   "source": []
  },
  {
   "cell_type": "code",
   "execution_count": null,
   "metadata": {},
   "outputs": [],
   "source": []
  },
  {
   "cell_type": "code",
   "execution_count": null,
   "metadata": {},
   "outputs": [],
   "source": []
  },
  {
   "cell_type": "code",
   "execution_count": null,
   "metadata": {},
   "outputs": [],
   "source": [
    "unique_clues"
   ]
  },
  {
   "cell_type": "code",
   "execution_count": 177,
   "metadata": {},
   "outputs": [
    {
     "data": {
      "text/html": [
       "<div>\n",
       "<style scoped>\n",
       "    .dataframe tbody tr th:only-of-type {\n",
       "        vertical-align: middle;\n",
       "    }\n",
       "\n",
       "    .dataframe tbody tr th {\n",
       "        vertical-align: top;\n",
       "    }\n",
       "\n",
       "    .dataframe thead th {\n",
       "        text-align: right;\n",
       "    }\n",
       "</style>\n",
       "<table border=\"1\" class=\"dataframe\">\n",
       "  <thead>\n",
       "    <tr style=\"text-align: right;\">\n",
       "      <th></th>\n",
       "      <th>answers</th>\n",
       "      <th>clues</th>\n",
       "      <th>crossword_year</th>\n",
       "    </tr>\n",
       "  </thead>\n",
       "  <tbody>\n",
       "    <tr>\n",
       "      <th>1183174</th>\n",
       "      <td>EMOJI</td>\n",
       "      <td>What you might use to put on a happy face?</td>\n",
       "      <td>2014</td>\n",
       "    </tr>\n",
       "    <tr>\n",
       "      <th>1221712</th>\n",
       "      <td>EMOJI</td>\n",
       "      <td>Symbol like \"prayer hands\" or \"heart eyes\"</td>\n",
       "      <td>2016</td>\n",
       "    </tr>\n",
       "  </tbody>\n",
       "</table>\n",
       "</div>"
      ],
      "text/plain": [
       "        answers                                        clues  crossword_year\n",
       "1183174   EMOJI   What you might use to put on a happy face?            2014\n",
       "1221712   EMOJI   Symbol like \"prayer hands\" or \"heart eyes\"            2016"
      ]
     },
     "execution_count": 177,
     "metadata": {},
     "output_type": "execute_result"
    }
   ],
   "source": [
    "# DUDE, RAD, INSANE, COOL, GNARLY,DIS, COMP, SLAPS\n",
    "frequent_answers= df_answers_clues[df_answers_clues['answers'] == 'EMOJI']\n",
    "unique_clues = frequent_answers[['answers','clues','crossword_year']].sort_values(['crossword_year']).drop_duplicates()\n",
    "unique_clues.head(50)"
   ]
  },
  {
   "cell_type": "code",
   "execution_count": null,
   "metadata": {},
   "outputs": [],
   "source": []
  },
  {
   "cell_type": "code",
   "execution_count": null,
   "metadata": {},
   "outputs": [],
   "source": []
  },
  {
   "cell_type": "code",
   "execution_count": null,
   "metadata": {},
   "outputs": [],
   "source": []
  },
  {
   "cell_type": "code",
   "execution_count": null,
   "metadata": {},
   "outputs": [],
   "source": []
  },
  {
   "cell_type": "code",
   "execution_count": null,
   "metadata": {},
   "outputs": [],
   "source": []
  },
  {
   "cell_type": "code",
   "execution_count": null,
   "metadata": {},
   "outputs": [],
   "source": []
  },
  {
   "cell_type": "code",
   "execution_count": null,
   "metadata": {},
   "outputs": [],
   "source": []
  },
  {
   "cell_type": "code",
   "execution_count": null,
   "metadata": {},
   "outputs": [],
   "source": [
    "frequent_answers= df_answers_clues[df_answers_clues['answers'] == 'GAY']\n",
    "unique_clues = frequent_answers[['answers','clues','crossword_year']].sort_values(['crossword_year']).drop_duplicates()\n",
    "unique_clues"
   ]
  },
  {
   "cell_type": "code",
   "execution_count": null,
   "metadata": {},
   "outputs": [],
   "source": [
    "unique_clues.clues.drop_duplicates()"
   ]
  },
  {
   "cell_type": "markdown",
   "metadata": {},
   "source": [
    "#### Who are the people behind the crosswords"
   ]
  },
  {
   "cell_type": "code",
   "execution_count": null,
   "metadata": {},
   "outputs": [],
   "source": [
    "df_answers_clues.groupby('editor').count()"
   ]
  },
  {
   "cell_type": "code",
   "execution_count": null,
   "metadata": {},
   "outputs": [],
   "source": [
    "authors = df_answers_clues[['author', 'answers', 'crossword_date']].groupby(['author', 'answers']).count().reset_index()\n",
    "authors[authors['crossword_date'] > 6].sort_values(by = ['author', 'crossword_date'], ascending = [True, False]).head(60)"
   ]
  },
  {
   "cell_type": "code",
   "execution_count": null,
   "metadata": {},
   "outputs": [],
   "source": [
    "df_answers_clues[(df_answers_clues['author'] == 'A. J. Santora') & (df_answers_clues['answers'] == 'ENE')]"
   ]
  }
 ],
 "metadata": {
  "kernelspec": {
   "display_name": "Python 3 (ipykernel)",
   "language": "python",
   "name": "python3"
  },
  "language_info": {
   "codemirror_mode": {
    "name": "ipython",
    "version": 3
   },
   "file_extension": ".py",
   "mimetype": "text/x-python",
   "name": "python",
   "nbconvert_exporter": "python",
   "pygments_lexer": "ipython3",
   "version": "3.10.3"
  },
  "vscode": {
   "interpreter": {
    "hash": "3ec3ea7d959f2d5bc466a37108636208ba61de7f3e482ce9630aea4fbe2c7b4d"
   }
  }
 },
 "nbformat": 4,
 "nbformat_minor": 2
}
