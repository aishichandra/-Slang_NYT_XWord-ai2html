{
 "cells": [
  {
   "cell_type": "code",
   "execution_count": 1,
   "metadata": {},
   "outputs": [],
   "source": [
    "import pandas as pd\n",
    "from bs4 import BeautifulSoup\n",
    "import requests\n",
    "import datetime\n"
   ]
  },
  {
   "cell_type": "code",
   "execution_count": 2,
   "metadata": {},
   "outputs": [],
   "source": [
    "list_of_dates = list(pd.date_range(start='1/1/1976', end='12/31/2000'))\n"
   ]
  },
  {
   "cell_type": "code",
   "execution_count": 3,
   "metadata": {},
   "outputs": [],
   "source": [
    "def get_crossword_data(date):\n",
    "    try:\n",
    "        response = requests.get(f'https://www.xwordinfo.com/Crossword?date={date.month}/{date.day}/{date.year}')\n",
    "        doc = BeautifulSoup(response.text)\n",
    "\n",
    "        list_of_answers = []\n",
    "        list_of_clues = []\n",
    "\n",
    "        for across in doc.find_all(\"div\",id=\"ACluesPan\"):\n",
    "            for clues in across.find(\"div\", class_ = \"numclue\"):\n",
    "                if clues.text.isnumeric() == False:\n",
    "                    list_of_answers.append(clues.text.split(\":\")[1].strip())\n",
    "                    list_of_clues.append(clues.text.split(\":\")[0].strip())\n",
    "\n",
    "        for across in doc.find_all(\"div\",id=\"DCluesPan\"):\n",
    "            for clues in across.find(\"div\", class_ = \"numclue\"):\n",
    "                if clues.text.isnumeric() == False:\n",
    "                    list_of_answers.append(clues.text.split(\":\")[1].strip())\n",
    "                    list_of_clues.append(clues.text.split(\":\")[0].strip())\n",
    "\n",
    "        return pd.Series({'answers': list_of_answers, 'clues': list_of_clues})\n",
    "    except:\n",
    "        return pd.Series({'answers': [], 'clues': []})"
   ]
  },
  {
   "cell_type": "code",
   "execution_count": null,
   "metadata": {},
   "outputs": [],
   "source": [
    "df = pd.DataFrame({\n",
    "    'crossword_date': list_of_dates\n",
    "})\n",
    "\n",
    "results = df.crossword_date.apply(get_crossword_data)\n",
    "df = df.join(results)\n",
    "df = df.dropna()\n",
    "df_answers_clues = df.set_index('crossword_date').apply(pd.Series.explode).reset_index()\n",
    "\n",
    "df_answers_clues"
   ]
  },
  {
   "cell_type": "code",
   "execution_count": null,
   "metadata": {},
   "outputs": [],
   "source": [
    "df_answers_clues['crossword_year'] = df_answers_clues['crossword_date'].dt.year\n",
    "df_answers_clues.to_csv(\"crossword_2015.csv\")"
   ]
  },
  {
   "cell_type": "code",
   "execution_count": null,
   "metadata": {},
   "outputs": [],
   "source": [
    "df_answers_clues[df_answers_clues['clues'].str.contains('colloquially', regex=False) |df_answers_clues['clues'].str.contains('modern lingo', regex=False) | df_answers_clues['clues'].str.contains('slang', regex=False) | df_answers_clues['clues'].str.contains('informally', regex=False) | df_answers_clues['clues'].str.contains('slangily', regex=False)].head(50)"
   ]
  },
  {
   "cell_type": "code",
   "execution_count": null,
   "metadata": {},
   "outputs": [],
   "source": []
  }
 ],
 "metadata": {
  "kernelspec": {
   "display_name": "Python 3 (ipykernel)",
   "language": "python",
   "name": "python3"
  },
  "language_info": {
   "codemirror_mode": {
    "name": "ipython",
    "version": 3
   },
   "file_extension": ".py",
   "mimetype": "text/x-python",
   "name": "python",
   "nbconvert_exporter": "python",
   "pygments_lexer": "ipython3",
   "version": "3.10.3"
  }
 },
 "nbformat": 4,
 "nbformat_minor": 2
}
